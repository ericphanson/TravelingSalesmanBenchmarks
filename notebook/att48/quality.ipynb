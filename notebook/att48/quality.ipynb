{
  "cells": [
    {
      "cell_type": "markdown",
      "source": [
        "# Comparison of cost vs quality for `att48.tsp` dataset\n### Eric P. Hanson\n\nWe will use `TravelingSalesmanExact` to compute the exact cost and compare to the estimated best costs found by `TravelingSalesmanHeuristics` with various settings of `quality`.\nFirst we load the packages:"
      ],
      "metadata": {}
    },
    {
      "outputs": [],
      "cell_type": "code",
      "source": [
        "using TravelingSalesmanExact, GLPK\nusing TravelingSalesmanHeuristics\nusing TravelingSalesmanExact: ATT, euclidean_distance\nusing TravelingSalesmanBenchmarks\nusing Plots\ngr(fmt=:svg)\nrepo_directory = TravelingSalesmanBenchmarks.repo_directory;\ndata_directory = joinpath(repo_directory, \"data\");"
      ],
      "metadata": {},
      "execution_count": null
    },
    {
      "cell_type": "markdown",
      "source": [
        "Then load the dataset"
      ],
      "metadata": {}
    },
    {
      "outputs": [],
      "cell_type": "code",
      "source": [
        "cities = simple_parse_tsp(joinpath(data_directory, \"att48.tsp\"), verbose = false)\nN = length(cities)\ncost = [ ATT(cities[i], cities[j]) for i=1:N, j=1:N ]"
      ],
      "metadata": {},
      "execution_count": null
    },
    {
      "cell_type": "markdown",
      "source": [
        "Now we will compute an optimal tour and cost, and plot these versus those found by the `tsp_solve` function of `TravelingSalesmanHeuristics`."
      ],
      "metadata": {}
    },
    {
      "outputs": [],
      "cell_type": "code",
      "source": [
        "t_exact, c_exact = get_optimal_tour(cost, with_optimizer(GLPK.Optimizer))\n\nc(q) = solve_tsp(cost; quality_factor = q)[2]\n\nqs = range(10, stop = 100, step = 10)\n\nplt = plot(qs, c, xlabel=\"quality\", ylabel=\"Cost\", label=\"solve_tsp\", title=\"att48.tsp\")\n\nhline!([c_exact], label=\"Exact cost\")"
      ],
      "metadata": {},
      "execution_count": null
    },
    {
      "outputs": [],
      "cell_type": "code",
      "source": [
        "TravelingSalesmanBenchmarks.bench_footer(WEAVE_ARGS[:folder],WEAVE_ARGS[:file])"
      ],
      "metadata": {},
      "execution_count": null
    }
  ],
  "nbformat_minor": 2,
  "metadata": {
    "language_info": {
      "file_extension": ".jl",
      "mimetype": "application/julia",
      "name": "julia",
      "version": "1.1.0"
    },
    "kernelspec": {
      "name": "julia-1.1",
      "display_name": "Julia 1.1.0",
      "language": "julia"
    }
  },
  "nbformat": 4
}
