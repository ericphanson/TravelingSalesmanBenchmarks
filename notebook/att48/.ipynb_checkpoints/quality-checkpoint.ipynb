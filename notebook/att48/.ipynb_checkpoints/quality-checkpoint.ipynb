{
 "cells": [
  {
   "cell_type": "markdown",
   "metadata": {},
   "source": [
    "title: att48\n",
    "\n",
    "----"
   ]
  },
  {
   "cell_type": "code",
   "execution_count": 1,
   "metadata": {},
   "outputs": [
    {
     "ename": "UndefVarError",
     "evalue": "UndefVarError: WEAVE_ARGS not defined",
     "output_type": "error",
     "traceback": [
      "UndefVarError: WEAVE_ARGS not defined",
      "",
      "Stacktrace:",
      " [1] top-level scope at In[1]:7"
     ]
    }
   ],
   "source": [
    "using TravelingSalesmanExact, GLPK\n",
    "using TravelingSalesmanHeuristics\n",
    "using TravelingSalesmanExact: ATT, euclidean_distance\n",
    "\n",
    "using Plots\n",
    "gr(fmt=:svg)\n",
    "\n",
    "repo_directory = WEAVE_ARGS[:repo_directory]\n",
    "data_directory = joinpath(repo_directory, \"data\")"
   ]
  },
  {
   "cell_type": "code",
   "execution_count": 2,
   "metadata": {},
   "outputs": [
    {
     "ename": "UndefVarError",
     "evalue": "UndefVarError: data_directory not defined",
     "output_type": "error",
     "traceback": [
      "UndefVarError: data_directory not defined",
      "",
      "Stacktrace:",
      " [1] top-level scope at In[2]:1"
     ]
    }
   ],
   "source": [
    "cities = simple_parse_tsp(joinpath(data_directory, \"att48.tsp\"), verbose = false)\n",
    "\n",
    "N = length(cities)\n",
    "cost = [ ATT(cities[i], cities[j]) for i=1:N, j=1:N ]\n",
    "\n",
    "t_exact, c_exact = get_optimal_tour(cost, with_optimizer(GLPK.Optimizer))\n",
    "\n",
    "c(q) = solve_tsp(cost; quality_factor = q)[2]\n",
    "\n",
    "qs = range(10, stop = 100, step = 10)\n",
    "\n",
    "plot(qs, c, xlabel=\"quality\", ylabel=\"Cost\", label=\"solve_tsp\", title=\"att48.tsp\")\n",
    "\n",
    "hline!([c_exact], label=\"Exact cost\")"
   ]
  }
 ],
 "metadata": {
  "kernelspec": {
   "display_name": "Julia 1.1.0",
   "language": "julia",
   "name": "julia-1.1"
  },
  "language_info": {
   "file_extension": ".jl",
   "mimetype": "application/julia",
   "name": "julia",
   "version": "1.1.0"
  }
 },
 "nbformat": 4,
 "nbformat_minor": 2
}
