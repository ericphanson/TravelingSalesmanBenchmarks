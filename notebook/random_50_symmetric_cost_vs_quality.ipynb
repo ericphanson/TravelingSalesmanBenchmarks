{
  "cells": [
    {
      "cell_type": "markdown",
      "source": [
        "# Comparison of cost vs quality for a random symmetric cost matrix\n### Eric P. Hanson\n\nWe will use `TravelingSalesmanExact` to compute the exact cost and compare to the estimated best costs found by `TravelingSalesmanHeuristics` with various settings of `quality`.\nFirst we load the packages:"
      ],
      "metadata": {}
    },
    {
      "outputs": [],
      "cell_type": "code",
      "source": [
        "using TravelingSalesmanExact, GLPK\nusing TravelingSalesmanHeuristics\nusing TravelingSalesmanExact: ATT, euclidean_distance\nusing TravelingSalesmanBenchmarks\nusing Plots\ngr(fmt=:svg)\nrepo_directory = TravelingSalesmanBenchmarks.repo_directory;\ndata_directory = joinpath(repo_directory, \"data\");"
      ],
      "metadata": {},
      "execution_count": null
    },
    {
      "cell_type": "markdown",
      "source": [
        "Then we generate a cost matrix by taking a matrix uniformly at random and symmetrizing it:"
      ],
      "metadata": {}
    },
    {
      "outputs": [],
      "cell_type": "code",
      "source": [
        "N = 50\ncost = 100*rand(N, N)\ncost = (cost + transpose(cost) )/2"
      ],
      "metadata": {},
      "execution_count": null
    },
    {
      "cell_type": "markdown",
      "source": [
        "Note that this is a very odd cost matrix for a TSP problem, since e.g. the diagonal is non-zero, although it is symmetric.\n\nNow we will compute an optimal tour and cost, and plot these versus those found by the `tsp_solve` function of `TravelingSalesmanHeuristics`."
      ],
      "metadata": {}
    },
    {
      "outputs": [],
      "cell_type": "code",
      "source": [
        "t_exact, c_exact = get_optimal_tour(cost, with_optimizer(GLPK.Optimizer))\n\nc(q) = solve_tsp(cost; quality_factor = q)[2]\n\nqs = range(10, stop = 100, step = 10)\n\nplot(qs, c, xlabel=\"quality\", ylabel=\"Cost\", label=\"solve_tsp 1\", title=\"random symmetric cost matrix\")\nfor j = 2:5\n    plot!(qs, c, label=\"solve_tsp $j\")\nend\nhline!([c_exact], label=\"Exact cost\")"
      ],
      "metadata": {},
      "execution_count": null
    },
    {
      "cell_type": "markdown",
      "source": [
        "We've run `tsp_solve` five times for each quality, since the cost will vary from run to run due to the randomness of the heuristics. It seems like the heuristics do not perform that well, but I believe that is due to the pathological cost matrix, which likely violates some assumptions of the heuristics."
      ],
      "metadata": {}
    },
    {
      "outputs": [],
      "cell_type": "code",
      "source": [
        "TravelingSalesmanBenchmarks.bench_footer(WEAVE_ARGS[:file])"
      ],
      "metadata": {},
      "execution_count": null
    }
  ],
  "nbformat_minor": 2,
  "metadata": {
    "language_info": {
      "file_extension": ".jl",
      "mimetype": "application/julia",
      "name": "julia",
      "version": "1.1.0"
    },
    "kernelspec": {
      "name": "julia-1.1",
      "display_name": "Julia 1.1.0",
      "language": "julia"
    }
  },
  "nbformat": 4
}
