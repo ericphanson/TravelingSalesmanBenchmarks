{
  "cells": [
    {
      "cell_type": "markdown",
      "source": [
        "# Comparison of cost vs quality for 50 random cities\n### Eric P. Hanson\n\nWe will use `TravelingSalesmanExact` to compute the exact cost and compare to the estimated best costs found by `TravelingSalesmanHeuristics` with various settings of `quality`.\nFirst we load the packages:"
      ],
      "metadata": {}
    },
    {
      "outputs": [],
      "cell_type": "code",
      "source": [
        "using TravelingSalesmanExact, GLPK\nusing TravelingSalesmanHeuristics\nusing TravelingSalesmanExact: ATT, euclidean_distance\nusing TravelingSalesmanBenchmarks\nusing Plots\ngr(fmt=:svg)\nrepo_directory = TravelingSalesmanBenchmarks.repo_directory;\ndata_directory = joinpath(repo_directory, \"data\");"
      ],
      "metadata": {},
      "execution_count": null
    },
    {
      "cell_type": "markdown",
      "source": [
        "Then we generate a cost matrix by choosing cities at random:"
      ],
      "metadata": {}
    },
    {
      "outputs": [],
      "cell_type": "code",
      "source": [
        "N = 50\ncities = [100*rand(2) for _ = 1:N]\ncost = [ euclidean_distance(cities[i], cities[j]) for i=1:N, j=1:N ]"
      ],
      "metadata": {},
      "execution_count": null
    },
    {
      "cell_type": "markdown",
      "source": [
        "Now we will compute an optimal tour and cost, and plot these versus those found by the `tsp_solve` function of `TravelingSalesmanHeuristics`."
      ],
      "metadata": {}
    },
    {
      "outputs": [],
      "cell_type": "code",
      "source": [
        "t_exact, c_exact = get_optimal_tour(cost, with_optimizer(GLPK.Optimizer))\n\nc(q) = solve_tsp(cost; quality_factor = q)[2]\n\nqs = range(10, stop = 100, step = 10)\n\nplot(qs, c, xlabel=\"quality\", ylabel=\"Cost\", label=\"solve_tsp 1\", title=\"random cities\")\nfor j = 2:5\n    plot!(qs, c, label=\"solve_tsp $j\")\nend\nhline!([c_exact], label=\"Exact cost\")"
      ],
      "metadata": {},
      "execution_count": null
    },
    {
      "cell_type": "markdown",
      "source": [
        "We've run `tsp_solve` five times for each quality, since the cost will vary from run to run due to the randomness of the heuristics.\n\nWe can compare plots of the tours; we will override `TravelingSalesmanExact` to use `GR` for better plotting, since we load it anyway."
      ],
      "metadata": {}
    },
    {
      "outputs": [],
      "cell_type": "code",
      "source": [
        "function TravelingSalesmanExact.plot_cities(cities)\n    n = length(cities)\n    inc(a) = a == n ? one(a) : a + 1\n    Plots.plot([cities[inc(j)][1] for j = 0:n], [cities[inc(j)][2] for j = 0:n])\nend"
      ],
      "metadata": {},
      "execution_count": null
    },
    {
      "cell_type": "markdown",
      "source": [
        "Now, an optimal tour:"
      ],
      "metadata": {}
    },
    {
      "outputs": [],
      "cell_type": "code",
      "source": [
        "plot_cities(cities[t_exact])"
      ],
      "metadata": {},
      "execution_count": null
    },
    {
      "cell_type": "markdown",
      "source": [
        "A heuristically-derived tour with `quality_factor` of `100`:"
      ],
      "metadata": {}
    },
    {
      "outputs": [],
      "cell_type": "code",
      "source": [
        "t = solve_tsp(cost; quality_factor = 100)[1]\nplot_cities(cities[t])"
      ],
      "metadata": {},
      "execution_count": null
    },
    {
      "outputs": [],
      "cell_type": "code",
      "source": [
        "TravelingSalesmanBenchmarks.bench_footer(WEAVE_ARGS[:file])"
      ],
      "metadata": {},
      "execution_count": null
    }
  ],
  "nbformat_minor": 2,
  "metadata": {
    "language_info": {
      "file_extension": ".jl",
      "mimetype": "application/julia",
      "name": "julia",
      "version": "1.1.0"
    },
    "kernelspec": {
      "name": "julia-1.1",
      "display_name": "Julia 1.1.0",
      "language": "julia"
    }
  },
  "nbformat": 4
}
