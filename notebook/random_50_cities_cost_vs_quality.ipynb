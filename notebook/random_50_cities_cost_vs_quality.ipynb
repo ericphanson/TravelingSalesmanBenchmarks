{
  "cells": [
    {
      "cell_type": "markdown",
      "source": [
        "# Comparison of cost vs quality for 50 random cities\n### Eric P. Hanson\n\nWe will use `TravelingSalesmanExact` to compute the exact cost and compare to the estimated best costs found by `TravelingSalesmanHeuristics` with various settings of `quality`.\nFirst we load the packages:"
      ],
      "metadata": {}
    },
    {
      "outputs": [],
      "cell_type": "code",
      "source": [
        "using TravelingSalesmanExact, GLPK\nusing TravelingSalesmanHeuristics\nusing TravelingSalesmanExact: ATT, euclidean_distance\nusing TravelingSalesmanBenchmarks\nusing Plots\nusing Printf, Random\ngr(fmt=:svg)"
      ],
      "metadata": {},
      "execution_count": null
    },
    {
      "cell_type": "markdown",
      "source": [
        "For plotting, we will override `TravelingSalesmanExact`'s `plot_cities` function to use `Plots`, since we load that package anyway. We also add a mutating version."
      ],
      "metadata": {}
    },
    {
      "outputs": [],
      "cell_type": "code",
      "source": [
        "function TravelingSalesmanExact.plot_cities(cities; kwargs...)\n    n = length(cities)\n    inc(a) = a == n ? one(a) : a + 1\n    Plots.plot([cities[inc(j)][1] for j = 0:n], [cities[inc(j)][2] for j = 0:n]; kwargs...)\n    Plots.plot!([cities[inc(j)][1] for j = 0:n], [cities[inc(j)][2] for j = 0:n]; st=:scatter, label=\"City locations\")\nend"
      ],
      "metadata": {},
      "execution_count": null
    },
    {
      "cell_type": "markdown",
      "source": [
        "Then we generate a cost matrix by choosing cities at random, although with a fixed seed for reproducibility:"
      ],
      "metadata": {}
    },
    {
      "outputs": [],
      "cell_type": "code",
      "source": [
        "Random.seed!(155);\nN = 50\ncities = [100*rand(2) for _ = 1:N]\ncost = [ euclidean_distance(cities[i], cities[j]) for i=1:N, j=1:N ]"
      ],
      "metadata": {},
      "execution_count": null
    },
    {
      "cell_type": "markdown",
      "source": [
        "Now we will compute an optimal tour and cost, and plot these versus those found by the `tsp_solve` function of `TravelingSalesmanHeuristics`."
      ],
      "metadata": {}
    },
    {
      "outputs": [],
      "cell_type": "code",
      "source": [
        "t_exact, c_exact = get_optimal_tour(cost, with_optimizer(GLPK.Optimizer))\n\nc(q) = solve_tsp(cost; quality_factor = q)[2]\n\nqs = range(10, stop = 100, step = 10)\n\nplot(qs, c, xlabel=\"quality\", ylabel=\"Cost\", label=\"solve_tsp 1\", title=\"random cities\")\nfor j = 2:5\n    plot!(qs, c, label=\"solve_tsp $j\")\nend\nhline!([c_exact], label=\"Exact cost\")"
      ],
      "metadata": {},
      "execution_count": null
    },
    {
      "cell_type": "markdown",
      "source": [
        "We've run `tsp_solve` five times for each quality, since the cost will vary from run to run due to the randomness of the heuristics.\n\nWe can compare plots of the tours; first, an optimal tour:"
      ],
      "metadata": {}
    },
    {
      "outputs": [],
      "cell_type": "code",
      "source": [
        "plot_cities(cities[t_exact], title=\"Optimal tour\", label=@sprintf(\"cost=%.2f\", c_exact))"
      ],
      "metadata": {},
      "execution_count": null
    },
    {
      "cell_type": "markdown",
      "source": [
        "A heuristically-derived tour with `quality_factor` of `100`:"
      ],
      "metadata": {}
    },
    {
      "outputs": [],
      "cell_type": "code",
      "source": [
        "t_heuristic, c_heuristic = solve_tsp(cost; quality_factor = 100)\nplot_cities(cities[t_heuristic], title=\"Heuristic tour, `quality_factor` = 100\", label=@sprintf(\"cost=%.2f\", c_heuristic))"
      ],
      "metadata": {},
      "execution_count": null
    },
    {
      "cell_type": "markdown",
      "source": [
        "A heuristically-derived tour with `quality_factor` of `40`:"
      ],
      "metadata": {}
    },
    {
      "outputs": [],
      "cell_type": "code",
      "source": [
        "t_heuristic, c_heuristic = solve_tsp(cost; quality_factor = 40)\nplot_cities(cities[t_heuristic], title=\"Heuristic tour, `quality_factor` = 40\", label=@sprintf(\"cost=%.2f\", c_heuristic))"
      ],
      "metadata": {},
      "execution_count": null
    },
    {
      "cell_type": "markdown",
      "source": [
        "We can repeat this several times to compare various choices of random cities."
      ],
      "metadata": {}
    },
    {
      "outputs": [],
      "cell_type": "code",
      "source": [
        "function compare_cities(N)\n    cities = [100*rand(2) for _ = 1:N]\n    cost = [ euclidean_distance(cities[i], cities[j]) for i=1:N, j=1:N ]\n    t_exact, c_exact = get_optimal_tour(cost, with_optimizer(GLPK.Optimizer))\n\n    c(q) = solve_tsp(cost; quality_factor = q)[2]\n\n    qs = range(10, stop = 100, step = 10)\n\n    line_plt = plot(qs, c, xlabel=\"quality\", ylabel=\"Cost\", label=\"solve_tsp 1\", title=\"random cities\")\n    for j = 2:5\n        plot!(qs, c, label=\"solve_tsp $j\")\n    end\n    hline!([c_exact], label=\"Exact cost\")\n\n    opt_city_plt = plot_cities(cities[t_exact], title=\"Optimal tour\", label=@sprintf(\"cost=%.2f\", c_exact))\n\n    t_heuristic, c_heuristic = solve_tsp(cost; quality_factor = 100)\n    heuristic_city_plt_1 = plot_cities(cities[t_heuristic], title=\"Heuristic tour, `quality_factor` = 100\", label=@sprintf(\"cost=%.2f\", c_heuristic))\n\n    t_heuristic_2, c_heuristic_2 = solve_tsp(cost; quality_factor = 40)\n    heuristic_city_plt_2 = plot_cities(cities[t_heuristic_2], title=\"Heuristic tour, `quality_factor` = 40\", label=@sprintf(\"cost=%.2f\", c_heuristic_2))\n    return line_plt, opt_city_plt, heuristic_city_plt_1, heuristic_city_plt_2\nend\n\nfor j = 1:5\n    plts = compare_cities(50)\n    for plt in plts\n        display(plt)\n    end\nend"
      ],
      "metadata": {},
      "execution_count": null
    },
    {
      "outputs": [],
      "cell_type": "code",
      "source": [
        "TravelingSalesmanBenchmarks.bench_footer(WEAVE_ARGS[:file])"
      ],
      "metadata": {},
      "execution_count": null
    }
  ],
  "nbformat_minor": 2,
  "metadata": {
    "language_info": {
      "file_extension": ".jl",
      "mimetype": "application/julia",
      "name": "julia",
      "version": "1.1.0"
    },
    "kernelspec": {
      "name": "julia-1.1",
      "display_name": "Julia 1.1.0",
      "language": "julia"
    }
  },
  "nbformat": 4
}
