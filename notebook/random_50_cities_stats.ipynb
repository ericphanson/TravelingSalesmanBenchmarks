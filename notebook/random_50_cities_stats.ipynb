{
  "cells": [
    {
      "cell_type": "markdown",
      "source": [
        "# Time and quality stats for datasets of random cities\n### Eric P. Hanson\n\nWe will use `TravelingSalesmanExact` to compute the exact cost and compare to the estimated best costs found by `TravelingSalesmanHeuristics` with various settings of `quality`.\nFirst we load the packages and set up some plotting:"
      ],
      "metadata": {}
    },
    {
      "outputs": [],
      "cell_type": "code",
      "source": [
        "using TravelingSalesmanExact, MosekTools, GLPK, Gurobi\nconst MosekF = with_optimizer(Mosek.Optimizer, QUIET = true)\nconst GLPKF = with_optimizer(GLPK.Optimizer)\nconst env = Gurobi.Env()\nconst GurobiF = with_optimizer(Gurobi.Optimizer, env, OutputFlag = 0)\nusing TravelingSalesmanHeuristics\nusing TravelingSalesmanExact: euclidean_distance\nusing TravelingSalesmanBenchmarks\nusing Plots\nusing DataFrames\nusing Printf, Random, Statistics\nStatistics.quantile(p::Number) = Base.Fix2(quantile, p)\ngr(fmt=:svg)\n\nfunction get_plt_coords(cities)\n    n = length(cities)\n    inc(a) = a == n ? one(a) : a + 1\n    return [cities[inc(j)][1] for j = 0:n], [cities[inc(j)][2] for j = 0:n]\nend\nTravelingSalesmanExact.plot_cities(cities; kwargs...) = plot(get_plt_coords(cities)...; kwargs...)\nplot_cities!(cities; kwargs...) = plot!(get_plt_coords(cities)...; kwargs...)\n\nfunction plot_tours(cities, pairs; kwargs...)\n    plts = []\n    colors = sequential_palette(0, length(pairs)+1)[2:end]\n    for (index, (tour, label)) in enumerate(pairs)\n        plt = plot_cities(cities[tour], label = label, linewidth = 2,\n                            color = colors[index])\n        plot_cities!(cities; title=\"Comparison of tours\", st=:scatter, label=\"City locations\", markersize = 5, kwargs...)\n        push!(plts, plt)\n    end\n    return plts\nend"
      ],
      "metadata": {},
      "execution_count": null
    },
    {
      "cell_type": "markdown",
      "source": [
        "## Datasets with 50 cities\n\nWe generate a cost matrix by choosing cities at random, although with a fixed seed for reproducibility:"
      ],
      "metadata": {}
    },
    {
      "outputs": [],
      "cell_type": "code",
      "source": [
        "Random.seed!(639);\nN = 50\ncities = [100*rand(2) for _ = 1:N]"
      ],
      "metadata": {},
      "execution_count": null
    },
    {
      "cell_type": "markdown",
      "source": [
        "Now we will compute an optimal tour and cost, and compare to the cost of tours found by the `tsp_solve` function of `TravelingSalesmanHeuristics` at various choices of `quality_factor`."
      ],
      "metadata": {}
    },
    {
      "outputs": [],
      "cell_type": "code",
      "source": [
        "function cost_quality_plots(cities; n = 15, qs = range(0, stop = 100, step = 5))\n    cost = [ euclidean_distance(cities[i], cities[j]) for i=1:N, j=1:N ]\n\n    (tour_glpk, cost_glpk), time_glpk, _ = @timed get_optimal_tour(cost, GLPKF)\n    (tour_mosek, cost_mosek), time_mosek, _ = @timed get_optimal_tour(cost, MosekF)\n    (tour_gurobi, cost_gurobi), time_gurobi, _ = @timed get_optimal_tour(cost, GurobiF)\n    @assert cost_glpk ≈ cost_mosek ≈ cost_gurobi\n    t_exact, c_exact = tour_glpk, cost_glpk\n    tour_plt = plot_tours(cities, [(t_exact, \"Optimal tour ($(length(cities)) cities)\")], title = \"Optimal tour\")[]\n    \n    df = DataFrame(\n            begin\n                (tour, c), time, _ = @timed solve_tsp(cost; quality_factor = q)\n                if c < c_exact && !(c ≈ c_exact)\n                    @warn \"c < c_exact\" c c_exact\n                end\n                (quality = q, cost = c, time = time )\n            end\n            for _ = 1:n for q in qs) \n    cost_df = by(df, :quality, :cost => median, :cost => quantile(.25), :cost => quantile(.75) )\n\n    cost_plt = hline([c_exact], label=\"Exact cost\")\n    plot!(cost_df[1], cost_df[2], ribbon = (cost_df[2] .- cost_df[3], cost_df[4] .- cost_df[2]),\n    label = \"Median cost over $n heuristic runs per `quality_factor`\", xlabel=\"`quality_factor`\", ylabel=\"Cost\", title=\"Cost vs quality\" )\n\n    time_df = by(df, :quality, :time => median, :time => quantile(.25), :time => quantile(.75) )\n    time_plt = hline([time_glpk], label=\"Time for exact computation with GLPK\")\n    hline!([time_mosek], label=\"Time for exact computation with Mosek\")\n    hline!([time_gurobi], label=\"Time for exact computation with Gurobi\")\n    plot!(time_df[1], time_df[2],  ribbon = (time_df[2] .- time_df[3], time_df[4] .- time_df[2]),\n    label = \"Median time over $n heuristic runs per `quality_factor`\", xlabel=\"`quality_factor`\", ylabel=\"Time\", title=\"Time vs quality\" )\n\n    return tour_plt, cost_plt, time_plt\nend\n\nforeach(display, cost_quality_plots(cities))"
      ],
      "metadata": {},
      "execution_count": null
    },
    {
      "cell_type": "markdown",
      "source": [
        "Here, we see a visual diagram of the optimal tour, and a comparison of (tour) cost versus the `quality_factor` setting, and a similar comparison for the computation time. The ribbon shows the range between the first and third quartiles.\n\nLet us repeat this for several different datasets each of 50 cities.\n\n### Dataset 2"
      ],
      "metadata": {}
    },
    {
      "outputs": [],
      "cell_type": "code",
      "source": [
        "N = 50\ncities = [100*rand(2) for _ = 1:N]\nforeach(display, cost_quality_plots(cities))"
      ],
      "metadata": {},
      "execution_count": null
    },
    {
      "cell_type": "markdown",
      "source": [
        "### Dataset 3"
      ],
      "metadata": {}
    },
    {
      "outputs": [],
      "cell_type": "code",
      "source": [
        "cities = [100*rand(2) for _ = 1:N]\nforeach(display, cost_quality_plots(cities))"
      ],
      "metadata": {},
      "execution_count": null
    },
    {
      "cell_type": "markdown",
      "source": [
        "### Dataset 4"
      ],
      "metadata": {}
    },
    {
      "outputs": [],
      "cell_type": "code",
      "source": [
        "cities = [100*rand(2) for _ = 1:N]\nforeach(display, cost_quality_plots(cities))"
      ],
      "metadata": {},
      "execution_count": null
    },
    {
      "cell_type": "markdown",
      "source": [
        "### Dataset 5"
      ],
      "metadata": {}
    },
    {
      "outputs": [],
      "cell_type": "code",
      "source": [
        "cities = [100*rand(2) for _ = 1:N]\nforeach(display, cost_quality_plots(cities))"
      ],
      "metadata": {},
      "execution_count": null
    },
    {
      "cell_type": "markdown",
      "source": [
        "## Datasets with more cities\n\nWe can try increasing the number of cities, although the runtime becomes very long.\n\n### N = 80"
      ],
      "metadata": {}
    },
    {
      "outputs": [],
      "cell_type": "code",
      "source": [
        "N = 80\ncities = [100*rand(2) for _ = 1:N]\nforeach(display, cost_quality_plots(cities))"
      ],
      "metadata": {},
      "execution_count": null
    },
    {
      "outputs": [],
      "cell_type": "code",
      "source": [
        "file = @isdefined(WEAVE_ARGS) ? WEAVE_ARGS[:file] : nothing\nTravelingSalesmanBenchmarks.bench_footer(file)"
      ],
      "metadata": {},
      "execution_count": null
    }
  ],
  "nbformat_minor": 2,
  "metadata": {
    "language_info": {
      "file_extension": ".jl",
      "mimetype": "application/julia",
      "name": "julia",
      "version": "1.1.0"
    },
    "kernelspec": {
      "name": "julia-1.1",
      "display_name": "Julia 1.1.0",
      "language": "julia"
    }
  },
  "nbformat": 4
}
